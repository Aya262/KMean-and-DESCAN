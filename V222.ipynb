{
 "cells": [
  {
   "cell_type": "code",
   "execution_count": 1,
   "metadata": {},
   "outputs": [],
   "source": [
    "%matplotlib inline\n",
    "import numpy as np\n",
    "import pandas as pd\n",
    "import matplotlib.pyplot as plt\n",
    "import seaborn as sns"
   ]
  },
  {
   "cell_type": "code",
   "execution_count": 2,
   "metadata": {},
   "outputs": [],
   "source": [
    "Movies=pd.read_csv('movies.csv')\n",
    "Crew=pd.read_csv('crew.csv')"
   ]
  },
  {
   "cell_type": "code",
   "execution_count": 3,
   "metadata": {},
   "outputs": [
    {
     "data": {
      "text/html": [
       "<div>\n",
       "<style scoped>\n",
       "    .dataframe tbody tr th:only-of-type {\n",
       "        vertical-align: middle;\n",
       "    }\n",
       "\n",
       "    .dataframe tbody tr th {\n",
       "        vertical-align: top;\n",
       "    }\n",
       "\n",
       "    .dataframe thead th {\n",
       "        text-align: right;\n",
       "    }\n",
       "</style>\n",
       "<table border=\"1\" class=\"dataframe\">\n",
       "  <thead>\n",
       "    <tr style=\"text-align: right;\">\n",
       "      <th></th>\n",
       "      <th>movie_id</th>\n",
       "      <th>title</th>\n",
       "      <th>original_language</th>\n",
       "      <th>release_date</th>\n",
       "      <th>budget</th>\n",
       "      <th>revenue</th>\n",
       "      <th>runtime</th>\n",
       "      <th>vote_average</th>\n",
       "      <th>vote_count</th>\n",
       "      <th>popularity</th>\n",
       "      <th>genres</th>\n",
       "      <th>keywords</th>\n",
       "      <th>production_companies</th>\n",
       "      <th>production_countries</th>\n",
       "    </tr>\n",
       "  </thead>\n",
       "  <tbody>\n",
       "    <tr>\n",
       "      <th>0</th>\n",
       "      <td>19995</td>\n",
       "      <td>Avatar</td>\n",
       "      <td>en</td>\n",
       "      <td>2009-12-10</td>\n",
       "      <td>237000000</td>\n",
       "      <td>2.787965e+09</td>\n",
       "      <td>162.0</td>\n",
       "      <td>7.2</td>\n",
       "      <td>11800</td>\n",
       "      <td>150.437577</td>\n",
       "      <td>Action|Adventure|Fantasy|Science Fiction</td>\n",
       "      <td>culture clash|future|space war|space colony|so...</td>\n",
       "      <td>Ingenious Film Partners|Twentieth Century Fox ...</td>\n",
       "      <td>United States of America|United Kingdom</td>\n",
       "    </tr>\n",
       "    <tr>\n",
       "      <th>1</th>\n",
       "      <td>285</td>\n",
       "      <td>Pirates of the Caribbean: At World's End</td>\n",
       "      <td>en</td>\n",
       "      <td>2007-05-19</td>\n",
       "      <td>300000000</td>\n",
       "      <td>9.610000e+08</td>\n",
       "      <td>169.0</td>\n",
       "      <td>6.9</td>\n",
       "      <td>4500</td>\n",
       "      <td>139.082615</td>\n",
       "      <td>Adventure|Fantasy|Action</td>\n",
       "      <td>ocean|drug abuse|exotic island|east india trad...</td>\n",
       "      <td>Walt Disney Pictures|Jerry Bruckheimer Films|S...</td>\n",
       "      <td>United States of America</td>\n",
       "    </tr>\n",
       "    <tr>\n",
       "      <th>2</th>\n",
       "      <td>206647</td>\n",
       "      <td>Spectre</td>\n",
       "      <td>en</td>\n",
       "      <td>2015-10-26</td>\n",
       "      <td>245000000</td>\n",
       "      <td>8.806746e+08</td>\n",
       "      <td>148.0</td>\n",
       "      <td>6.3</td>\n",
       "      <td>4466</td>\n",
       "      <td>107.376788</td>\n",
       "      <td>Action|Adventure|Crime</td>\n",
       "      <td>spy|based on novel|secret agent|sequel|mi6|bri...</td>\n",
       "      <td>Columbia Pictures|Danjaq|B24</td>\n",
       "      <td>United Kingdom|United States of America</td>\n",
       "    </tr>\n",
       "    <tr>\n",
       "      <th>3</th>\n",
       "      <td>49026</td>\n",
       "      <td>The Dark Knight Rises</td>\n",
       "      <td>en</td>\n",
       "      <td>2012-07-16</td>\n",
       "      <td>250000000</td>\n",
       "      <td>1.084939e+09</td>\n",
       "      <td>165.0</td>\n",
       "      <td>7.6</td>\n",
       "      <td>9106</td>\n",
       "      <td>112.312950</td>\n",
       "      <td>Action|Crime|Drama|Thriller</td>\n",
       "      <td>dc comics|crime fighter|terrorist|secret ident...</td>\n",
       "      <td>Legendary Pictures|Warner Bros.|DC Entertainme...</td>\n",
       "      <td>United States of America</td>\n",
       "    </tr>\n",
       "    <tr>\n",
       "      <th>4</th>\n",
       "      <td>49529</td>\n",
       "      <td>John Carter</td>\n",
       "      <td>en</td>\n",
       "      <td>2012-03-07</td>\n",
       "      <td>260000000</td>\n",
       "      <td>2.841391e+08</td>\n",
       "      <td>132.0</td>\n",
       "      <td>6.1</td>\n",
       "      <td>2124</td>\n",
       "      <td>43.926995</td>\n",
       "      <td>Action|Adventure|Science Fiction</td>\n",
       "      <td>based on novel|mars|medallion|space travel|pri...</td>\n",
       "      <td>Walt Disney Pictures</td>\n",
       "      <td>United States of America</td>\n",
       "    </tr>\n",
       "  </tbody>\n",
       "</table>\n",
       "</div>"
      ],
      "text/plain": [
       "   movie_id                                     title original_language  \\\n",
       "0     19995                                    Avatar                en   \n",
       "1       285  Pirates of the Caribbean: At World's End                en   \n",
       "2    206647                                   Spectre                en   \n",
       "3     49026                     The Dark Knight Rises                en   \n",
       "4     49529                               John Carter                en   \n",
       "\n",
       "  release_date     budget       revenue  runtime  vote_average  vote_count  \\\n",
       "0   2009-12-10  237000000  2.787965e+09    162.0           7.2       11800   \n",
       "1   2007-05-19  300000000  9.610000e+08    169.0           6.9        4500   \n",
       "2   2015-10-26  245000000  8.806746e+08    148.0           6.3        4466   \n",
       "3   2012-07-16  250000000  1.084939e+09    165.0           7.6        9106   \n",
       "4   2012-03-07  260000000  2.841391e+08    132.0           6.1        2124   \n",
       "\n",
       "   popularity                                    genres  \\\n",
       "0  150.437577  Action|Adventure|Fantasy|Science Fiction   \n",
       "1  139.082615                  Adventure|Fantasy|Action   \n",
       "2  107.376788                    Action|Adventure|Crime   \n",
       "3  112.312950               Action|Crime|Drama|Thriller   \n",
       "4   43.926995          Action|Adventure|Science Fiction   \n",
       "\n",
       "                                            keywords  \\\n",
       "0  culture clash|future|space war|space colony|so...   \n",
       "1  ocean|drug abuse|exotic island|east india trad...   \n",
       "2  spy|based on novel|secret agent|sequel|mi6|bri...   \n",
       "3  dc comics|crime fighter|terrorist|secret ident...   \n",
       "4  based on novel|mars|medallion|space travel|pri...   \n",
       "\n",
       "                                production_companies  \\\n",
       "0  Ingenious Film Partners|Twentieth Century Fox ...   \n",
       "1  Walt Disney Pictures|Jerry Bruckheimer Films|S...   \n",
       "2                       Columbia Pictures|Danjaq|B24   \n",
       "3  Legendary Pictures|Warner Bros.|DC Entertainme...   \n",
       "4                               Walt Disney Pictures   \n",
       "\n",
       "                      production_countries  \n",
       "0  United States of America|United Kingdom  \n",
       "1                 United States of America  \n",
       "2  United Kingdom|United States of America  \n",
       "3                 United States of America  \n",
       "4                 United States of America  "
      ]
     },
     "execution_count": 3,
     "metadata": {},
     "output_type": "execute_result"
    }
   ],
   "source": [
    "Movies.head()"
   ]
  },
  {
   "cell_type": "code",
   "execution_count": 4,
   "metadata": {},
   "outputs": [
    {
     "data": {
      "text/plain": [
       "4795"
      ]
     },
     "execution_count": 4,
     "metadata": {},
     "output_type": "execute_result"
    }
   ],
   "source": [
    "len(Movies)"
   ]
  },
  {
   "cell_type": "code",
   "execution_count": 5,
   "metadata": {},
   "outputs": [
    {
     "name": "stdout",
     "output_type": "stream",
     "text": [
      "<class 'pandas.core.frame.DataFrame'>\n",
      "RangeIndex: 4795 entries, 0 to 4794\n",
      "Data columns (total 14 columns):\n",
      "movie_id                4795 non-null int64\n",
      "title                   4795 non-null object\n",
      "original_language       4795 non-null object\n",
      "release_date            4794 non-null object\n",
      "budget                  4795 non-null int64\n",
      "revenue                 4795 non-null float64\n",
      "runtime                 4793 non-null float64\n",
      "vote_average            4795 non-null float64\n",
      "vote_count              4795 non-null int64\n",
      "popularity              4795 non-null float64\n",
      "genres                  4767 non-null object\n",
      "keywords                4386 non-null object\n",
      "production_companies    4450 non-null object\n",
      "production_countries    4624 non-null object\n",
      "dtypes: float64(4), int64(3), object(7)\n",
      "memory usage: 524.5+ KB\n"
     ]
    }
   ],
   "source": [
    "Movies.info()"
   ]
  },
  {
   "cell_type": "code",
   "execution_count": 6,
   "metadata": {},
   "outputs": [
    {
     "data": {
      "text/html": [
       "<div>\n",
       "<style scoped>\n",
       "    .dataframe tbody tr th:only-of-type {\n",
       "        vertical-align: middle;\n",
       "    }\n",
       "\n",
       "    .dataframe tbody tr th {\n",
       "        vertical-align: top;\n",
       "    }\n",
       "\n",
       "    .dataframe thead th {\n",
       "        text-align: right;\n",
       "    }\n",
       "</style>\n",
       "<table border=\"1\" class=\"dataframe\">\n",
       "  <thead>\n",
       "    <tr style=\"text-align: right;\">\n",
       "      <th></th>\n",
       "      <th>movie_id</th>\n",
       "      <th>budget</th>\n",
       "      <th>revenue</th>\n",
       "      <th>runtime</th>\n",
       "      <th>vote_average</th>\n",
       "      <th>vote_count</th>\n",
       "      <th>popularity</th>\n",
       "    </tr>\n",
       "  </thead>\n",
       "  <tbody>\n",
       "    <tr>\n",
       "      <th>count</th>\n",
       "      <td>4795.000000</td>\n",
       "      <td>4.795000e+03</td>\n",
       "      <td>4.795000e+03</td>\n",
       "      <td>4793.000000</td>\n",
       "      <td>4795.000000</td>\n",
       "      <td>4795.000000</td>\n",
       "      <td>4795.000000</td>\n",
       "    </tr>\n",
       "    <tr>\n",
       "      <th>mean</th>\n",
       "      <td>57051.887800</td>\n",
       "      <td>2.909267e+07</td>\n",
       "      <td>8.239771e+07</td>\n",
       "      <td>106.915084</td>\n",
       "      <td>6.093306</td>\n",
       "      <td>691.360792</td>\n",
       "      <td>21.527415</td>\n",
       "    </tr>\n",
       "    <tr>\n",
       "      <th>std</th>\n",
       "      <td>88593.489117</td>\n",
       "      <td>4.073962e+07</td>\n",
       "      <td>1.629583e+08</td>\n",
       "      <td>22.570343</td>\n",
       "      <td>1.190313</td>\n",
       "      <td>1235.298140</td>\n",
       "      <td>31.831547</td>\n",
       "    </tr>\n",
       "    <tr>\n",
       "      <th>min</th>\n",
       "      <td>5.000000</td>\n",
       "      <td>0.000000e+00</td>\n",
       "      <td>0.000000e+00</td>\n",
       "      <td>0.000000</td>\n",
       "      <td>0.000000</td>\n",
       "      <td>0.000000</td>\n",
       "      <td>0.000000</td>\n",
       "    </tr>\n",
       "    <tr>\n",
       "      <th>25%</th>\n",
       "      <td>9010.500000</td>\n",
       "      <td>8.000000e+05</td>\n",
       "      <td>0.000000e+00</td>\n",
       "      <td>94.000000</td>\n",
       "      <td>5.600000</td>\n",
       "      <td>54.000000</td>\n",
       "      <td>4.723880</td>\n",
       "    </tr>\n",
       "    <tr>\n",
       "      <th>50%</th>\n",
       "      <td>14585.000000</td>\n",
       "      <td>1.500000e+07</td>\n",
       "      <td>1.925587e+07</td>\n",
       "      <td>104.000000</td>\n",
       "      <td>6.200000</td>\n",
       "      <td>236.000000</td>\n",
       "      <td>12.963328</td>\n",
       "    </tr>\n",
       "    <tr>\n",
       "      <th>75%</th>\n",
       "      <td>58533.000000</td>\n",
       "      <td>4.000000e+07</td>\n",
       "      <td>9.311911e+07</td>\n",
       "      <td>118.000000</td>\n",
       "      <td>6.800000</td>\n",
       "      <td>738.000000</td>\n",
       "      <td>28.352222</td>\n",
       "    </tr>\n",
       "    <tr>\n",
       "      <th>max</th>\n",
       "      <td>459488.000000</td>\n",
       "      <td>3.800000e+08</td>\n",
       "      <td>2.787965e+09</td>\n",
       "      <td>338.000000</td>\n",
       "      <td>10.000000</td>\n",
       "      <td>13752.000000</td>\n",
       "      <td>875.581305</td>\n",
       "    </tr>\n",
       "  </tbody>\n",
       "</table>\n",
       "</div>"
      ],
      "text/plain": [
       "            movie_id        budget       revenue      runtime  vote_average  \\\n",
       "count    4795.000000  4.795000e+03  4.795000e+03  4793.000000   4795.000000   \n",
       "mean    57051.887800  2.909267e+07  8.239771e+07   106.915084      6.093306   \n",
       "std     88593.489117  4.073962e+07  1.629583e+08    22.570343      1.190313   \n",
       "min         5.000000  0.000000e+00  0.000000e+00     0.000000      0.000000   \n",
       "25%      9010.500000  8.000000e+05  0.000000e+00    94.000000      5.600000   \n",
       "50%     14585.000000  1.500000e+07  1.925587e+07   104.000000      6.200000   \n",
       "75%     58533.000000  4.000000e+07  9.311911e+07   118.000000      6.800000   \n",
       "max    459488.000000  3.800000e+08  2.787965e+09   338.000000     10.000000   \n",
       "\n",
       "         vote_count   popularity  \n",
       "count   4795.000000  4795.000000  \n",
       "mean     691.360792    21.527415  \n",
       "std     1235.298140    31.831547  \n",
       "min        0.000000     0.000000  \n",
       "25%       54.000000     4.723880  \n",
       "50%      236.000000    12.963328  \n",
       "75%      738.000000    28.352222  \n",
       "max    13752.000000   875.581305  "
      ]
     },
     "execution_count": 6,
     "metadata": {},
     "output_type": "execute_result"
    }
   ],
   "source": [
    "Movies.describe()"
   ]
  },
  {
   "cell_type": "code",
   "execution_count": 7,
   "metadata": {},
   "outputs": [
    {
     "data": {
      "text/plain": [
       "movie_id                  0\n",
       "title                     0\n",
       "original_language         0\n",
       "release_date              1\n",
       "budget                    0\n",
       "revenue                   0\n",
       "runtime                   2\n",
       "vote_average              0\n",
       "vote_count                0\n",
       "popularity                0\n",
       "genres                   28\n",
       "keywords                409\n",
       "production_companies    345\n",
       "production_countries    171\n",
       "dtype: int64"
      ]
     },
     "execution_count": 7,
     "metadata": {},
     "output_type": "execute_result"
    }
   ],
   "source": [
    "Movies.isnull().sum()"
   ]
  },
  {
   "cell_type": "code",
   "execution_count": 8,
   "metadata": {},
   "outputs": [],
   "source": [
    "Movies['runtime'].fillna(Movies['runtime'].mean(),inplace=True)"
   ]
  },
  {
   "cell_type": "code",
   "execution_count": 9,
   "metadata": {},
   "outputs": [],
   "source": [
    "Movies['release_date'].fillna(method='ffill',inplace=True)"
   ]
  },
  {
   "cell_type": "code",
   "execution_count": 10,
   "metadata": {},
   "outputs": [
    {
     "data": {
      "text/plain": [
       "movie_id                  0\n",
       "title                     0\n",
       "original_language         0\n",
       "release_date              0\n",
       "budget                    0\n",
       "revenue                   0\n",
       "runtime                   0\n",
       "vote_average              0\n",
       "vote_count                0\n",
       "popularity                0\n",
       "genres                   28\n",
       "keywords                409\n",
       "production_companies    345\n",
       "production_countries    171\n",
       "dtype: int64"
      ]
     },
     "execution_count": 10,
     "metadata": {},
     "output_type": "execute_result"
    }
   ],
   "source": [
    "Movies.isnull().sum()"
   ]
  },
  {
   "cell_type": "code",
   "execution_count": 11,
   "metadata": {},
   "outputs": [
    {
     "data": {
      "text/plain": [
       "movie_id                0\n",
       "title                   0\n",
       "original_language       0\n",
       "release_date            0\n",
       "budget                  0\n",
       "revenue                 0\n",
       "runtime                 0\n",
       "vote_average            0\n",
       "vote_count              0\n",
       "popularity              0\n",
       "genres                  0\n",
       "keywords                0\n",
       "production_companies    0\n",
       "production_countries    0\n",
       "dtype: int64"
      ]
     },
     "execution_count": 11,
     "metadata": {},
     "output_type": "execute_result"
    }
   ],
   "source": [
    "Movies.dropna(inplace=True)\n",
    "Movies.isnull().sum()"
   ]
  },
  {
   "cell_type": "code",
   "execution_count": 12,
   "metadata": {},
   "outputs": [
    {
     "name": "stdout",
     "output_type": "stream",
     "text": [
      "['Action' 'Adventure' 'Animation' 'Comedy' 'Crime' 'Documentary' 'Drama'\n",
      " 'Family' 'Fantasy' 'Foreign' 'History' 'Horror' 'Music' 'Mystery'\n",
      " 'Romance' 'Science Fiction' 'TV Movie' 'Thriller' 'War' 'Western']\n"
     ]
    }
   ],
   "source": [
    "all_genres=[]\n",
    "for x in Movies.genres:\n",
    "    all_genres.extend(x.split(\"|\"))\n",
    "all_geners=np.unique(all_genres)\n",
    "print(all_geners)"
   ]
  },
  {
   "cell_type": "code",
   "execution_count": 13,
   "metadata": {},
   "outputs": [],
   "source": [
    "Genres=pd.DataFrame(data=np.zeros((len(Movies),len(all_geners))),columns=all_geners)"
   ]
  },
  {
   "cell_type": "code",
   "execution_count": 14,
   "metadata": {},
   "outputs": [],
   "source": [
    "for i ,x in enumerate(Movies.genres):\n",
    "    genres_of_one_example=Genres.columns.get_indexer(x.split('|'))\n",
    "    Genres.iloc[i,genres_of_one_example]=1"
   ]
  },
  {
   "cell_type": "code",
   "execution_count": 15,
   "metadata": {},
   "outputs": [
    {
     "name": "stdout",
     "output_type": "stream",
     "text": [
      "['af' 'ar' 'cn' 'da' 'de' 'el' 'en' 'es' 'fa' 'fr' 'he' 'hi' 'id' 'is'\n",
      " 'it' 'ja' 'ko' 'ky' 'nb' 'nl' 'no' 'pl' 'ps' 'pt' 'ro' 'ru' 'sl' 'sv'\n",
      " 'ta' 'te' 'th' 'tr' 'xx' 'zh']\n"
     ]
    }
   ],
   "source": [
    "all_Language=[]\n",
    "for x in Movies.original_language:\n",
    "    all_Language.extend(x.split(\"|\"))\n",
    "all_Language=np.unique(all_Language)\n",
    "print(all_Language)"
   ]
  },
  {
   "cell_type": "code",
   "execution_count": 16,
   "metadata": {},
   "outputs": [],
   "source": [
    "Languages=pd.DataFrame(data=np.zeros((len(Movies),len(all_Language))),columns=all_Language)"
   ]
  },
  {
   "cell_type": "code",
   "execution_count": 17,
   "metadata": {},
   "outputs": [],
   "source": [
    "for i ,x in enumerate(Movies.original_language):\n",
    "    Language_of_one_example=Languages.columns.get_indexer(x.split('|'))\n",
    "    Languages.iloc[i,Language_of_one_example]=1"
   ]
  },
  {
   "cell_type": "code",
   "execution_count": 18,
   "metadata": {},
   "outputs": [
    {
     "name": "stdout",
     "output_type": "stream",
     "text": [
      "['Afghanistan' 'Angola' 'Argentina' 'Aruba' 'Australia' 'Austria'\n",
      " 'Bahamas' 'Belgium' 'Bhutan' 'Bolivia' 'Bosnia and Herzegovina' 'Brazil'\n",
      " 'Bulgaria' 'Cambodia' 'Cameroon' 'Canada' 'Chile' 'China' 'Colombia'\n",
      " 'Cyprus' 'Czech Republic' 'Denmark' 'Dominica' 'Ecuador' 'Egypt' 'Fiji'\n",
      " 'Finland' 'France' 'Germany' 'Greece' 'Guadaloupe' 'Hong Kong' 'Hungary'\n",
      " 'Iceland' 'India' 'Indonesia' 'Iran' 'Ireland' 'Israel' 'Italy' 'Jamaica'\n",
      " 'Japan' 'Jordan' 'Kazakhstan' 'Kyrgyz Republic' 'Lebanon'\n",
      " 'Libyan Arab Jamahiriya' 'Lithuania' 'Luxembourg' 'Malaysia' 'Malta'\n",
      " 'Mexico' 'Monaco' 'Morocco' 'Netherlands' 'New Zealand' 'Norway'\n",
      " 'Pakistan' 'Peru' 'Philippines' 'Poland' 'Portugal' 'Romania' 'Russia'\n",
      " 'Serbia' 'Serbia and Montenegro' 'Singapore' 'Slovakia' 'Slovenia'\n",
      " 'South Africa' 'South Korea' 'Spain' 'Sweden' 'Switzerland' 'Taiwan'\n",
      " 'Thailand' 'Tunisia' 'Turkey' 'Ukraine' 'United Arab Emirates'\n",
      " 'United Kingdom' 'United States of America']\n"
     ]
    }
   ],
   "source": [
    "all_production_countries=[]\n",
    "for x in Movies.production_countries:\n",
    "    all_production_countries.extend(x.split(\"|\"))\n",
    "all_production_countries=np.unique(all_production_countries)\n",
    "print(all_production_countries)"
   ]
  },
  {
   "cell_type": "code",
   "execution_count": 19,
   "metadata": {},
   "outputs": [],
   "source": [
    "Production_Countries=pd.DataFrame(data=np.zeros((len(Movies),len(all_production_countries))),columns=all_production_countries)"
   ]
  },
  {
   "cell_type": "code",
   "execution_count": 20,
   "metadata": {},
   "outputs": [],
   "source": [
    "for i ,x in enumerate(Movies.production_countries):\n",
    "    PCountries_of_one_example=Production_Countries.columns.get_indexer(x.split('|'))\n",
    "    Production_Countries.iloc[i,PCountries_of_one_example]=1"
   ]
  },
  {
   "cell_type": "code",
   "execution_count": 21,
   "metadata": {},
   "outputs": [],
   "source": [
    "Movies2=Movies.join(Genres.add_prefix('Genre_'))"
   ]
  },
  {
   "cell_type": "code",
   "execution_count": 22,
   "metadata": {},
   "outputs": [],
   "source": [
    "Movies3=Movies2.join(Languages.add_prefix('Language_'))"
   ]
  },
  {
   "cell_type": "code",
   "execution_count": 23,
   "metadata": {},
   "outputs": [],
   "source": [
    "Movies4=Movies3.join(Production_Countries.add_prefix('PCountry_'))"
   ]
  },
  {
   "cell_type": "code",
   "execution_count": 24,
   "metadata": {},
   "outputs": [],
   "source": [
    "Movies4.drop(['genres','production_countries','original_language'],axis=1,inplace=True)"
   ]
  },
  {
   "cell_type": "code",
   "execution_count": 25,
   "metadata": {},
   "outputs": [
    {
     "data": {
      "text/plain": [
       "Index(['movie_id', 'title', 'release_date', 'budget', 'revenue', 'runtime',\n",
       "       'vote_average', 'vote_count', 'popularity', 'keywords',\n",
       "       ...\n",
       "       'PCountry_Sweden', 'PCountry_Switzerland', 'PCountry_Taiwan',\n",
       "       'PCountry_Thailand', 'PCountry_Tunisia', 'PCountry_Turkey',\n",
       "       'PCountry_Ukraine', 'PCountry_United Arab Emirates',\n",
       "       'PCountry_United Kingdom', 'PCountry_United States of America'],\n",
       "      dtype='object', length=147)"
      ]
     },
     "execution_count": 25,
     "metadata": {},
     "output_type": "execute_result"
    }
   ],
   "source": [
    "Movies4.columns"
   ]
  },
  {
   "cell_type": "code",
   "execution_count": 26,
   "metadata": {},
   "outputs": [
    {
     "data": {
      "text/html": [
       "<div>\n",
       "<style scoped>\n",
       "    .dataframe tbody tr th:only-of-type {\n",
       "        vertical-align: middle;\n",
       "    }\n",
       "\n",
       "    .dataframe tbody tr th {\n",
       "        vertical-align: top;\n",
       "    }\n",
       "\n",
       "    .dataframe thead th {\n",
       "        text-align: right;\n",
       "    }\n",
       "</style>\n",
       "<table border=\"1\" class=\"dataframe\">\n",
       "  <thead>\n",
       "    <tr style=\"text-align: right;\">\n",
       "      <th></th>\n",
       "      <th>movie_id</th>\n",
       "      <th>budget</th>\n",
       "      <th>revenue</th>\n",
       "      <th>runtime</th>\n",
       "      <th>vote_average</th>\n",
       "      <th>vote_count</th>\n",
       "      <th>popularity</th>\n",
       "      <th>Genre_Action</th>\n",
       "      <th>Genre_Adventure</th>\n",
       "      <th>Genre_Animation</th>\n",
       "      <th>...</th>\n",
       "      <th>PCountry_Sweden</th>\n",
       "      <th>PCountry_Switzerland</th>\n",
       "      <th>PCountry_Taiwan</th>\n",
       "      <th>PCountry_Thailand</th>\n",
       "      <th>PCountry_Tunisia</th>\n",
       "      <th>PCountry_Turkey</th>\n",
       "      <th>PCountry_Ukraine</th>\n",
       "      <th>PCountry_United Arab Emirates</th>\n",
       "      <th>PCountry_United Kingdom</th>\n",
       "      <th>PCountry_United States of America</th>\n",
       "    </tr>\n",
       "  </thead>\n",
       "  <tbody>\n",
       "    <tr>\n",
       "      <th>count</th>\n",
       "      <td>4172.000000</td>\n",
       "      <td>4.172000e+03</td>\n",
       "      <td>4.172000e+03</td>\n",
       "      <td>4172.000000</td>\n",
       "      <td>4172.000000</td>\n",
       "      <td>4172.000000</td>\n",
       "      <td>4172.000000</td>\n",
       "      <td>3794.000000</td>\n",
       "      <td>3794.000000</td>\n",
       "      <td>3794.000000</td>\n",
       "      <td>...</td>\n",
       "      <td>3794.000000</td>\n",
       "      <td>3794.000000</td>\n",
       "      <td>3794.000000</td>\n",
       "      <td>3794.000000</td>\n",
       "      <td>3794.000000</td>\n",
       "      <td>3794.000000</td>\n",
       "      <td>3794.000000</td>\n",
       "      <td>3794.000000</td>\n",
       "      <td>3794.000000</td>\n",
       "      <td>3794.000000</td>\n",
       "    </tr>\n",
       "    <tr>\n",
       "      <th>mean</th>\n",
       "      <td>50422.470757</td>\n",
       "      <td>3.266752e+07</td>\n",
       "      <td>9.385668e+07</td>\n",
       "      <td>108.831695</td>\n",
       "      <td>6.223969</td>\n",
       "      <td>787.654602</td>\n",
       "      <td>24.260400</td>\n",
       "      <td>0.259357</td>\n",
       "      <td>0.189773</td>\n",
       "      <td>0.054823</td>\n",
       "      <td>...</td>\n",
       "      <td>0.004217</td>\n",
       "      <td>0.004481</td>\n",
       "      <td>0.001318</td>\n",
       "      <td>0.000791</td>\n",
       "      <td>0.000264</td>\n",
       "      <td>0.000264</td>\n",
       "      <td>0.000264</td>\n",
       "      <td>0.002899</td>\n",
       "      <td>0.140749</td>\n",
       "      <td>0.872430</td>\n",
       "    </tr>\n",
       "    <tr>\n",
       "      <th>std</th>\n",
       "      <td>82455.362934</td>\n",
       "      <td>4.220373e+07</td>\n",
       "      <td>1.714746e+08</td>\n",
       "      <td>20.718388</td>\n",
       "      <td>0.968215</td>\n",
       "      <td>1296.127387</td>\n",
       "      <td>33.213387</td>\n",
       "      <td>0.438340</td>\n",
       "      <td>0.392173</td>\n",
       "      <td>0.227665</td>\n",
       "      <td>...</td>\n",
       "      <td>0.064811</td>\n",
       "      <td>0.066797</td>\n",
       "      <td>0.036283</td>\n",
       "      <td>0.028112</td>\n",
       "      <td>0.016235</td>\n",
       "      <td>0.016235</td>\n",
       "      <td>0.016235</td>\n",
       "      <td>0.053774</td>\n",
       "      <td>0.347808</td>\n",
       "      <td>0.333654</td>\n",
       "    </tr>\n",
       "    <tr>\n",
       "      <th>min</th>\n",
       "      <td>5.000000</td>\n",
       "      <td>0.000000e+00</td>\n",
       "      <td>0.000000e+00</td>\n",
       "      <td>0.000000</td>\n",
       "      <td>0.000000</td>\n",
       "      <td>0.000000</td>\n",
       "      <td>0.001586</td>\n",
       "      <td>0.000000</td>\n",
       "      <td>0.000000</td>\n",
       "      <td>0.000000</td>\n",
       "      <td>...</td>\n",
       "      <td>0.000000</td>\n",
       "      <td>0.000000</td>\n",
       "      <td>0.000000</td>\n",
       "      <td>0.000000</td>\n",
       "      <td>0.000000</td>\n",
       "      <td>0.000000</td>\n",
       "      <td>0.000000</td>\n",
       "      <td>0.000000</td>\n",
       "      <td>0.000000</td>\n",
       "      <td>0.000000</td>\n",
       "    </tr>\n",
       "    <tr>\n",
       "      <th>25%</th>\n",
       "      <td>8054.750000</td>\n",
       "      <td>3.000000e+06</td>\n",
       "      <td>4.258580e+05</td>\n",
       "      <td>95.000000</td>\n",
       "      <td>5.700000</td>\n",
       "      <td>95.750000</td>\n",
       "      <td>6.958402</td>\n",
       "      <td>0.000000</td>\n",
       "      <td>0.000000</td>\n",
       "      <td>0.000000</td>\n",
       "      <td>...</td>\n",
       "      <td>0.000000</td>\n",
       "      <td>0.000000</td>\n",
       "      <td>0.000000</td>\n",
       "      <td>0.000000</td>\n",
       "      <td>0.000000</td>\n",
       "      <td>0.000000</td>\n",
       "      <td>0.000000</td>\n",
       "      <td>0.000000</td>\n",
       "      <td>0.000000</td>\n",
       "      <td>1.000000</td>\n",
       "    </tr>\n",
       "    <tr>\n",
       "      <th>50%</th>\n",
       "      <td>12179.500000</td>\n",
       "      <td>1.800000e+07</td>\n",
       "      <td>3.007637e+07</td>\n",
       "      <td>105.000000</td>\n",
       "      <td>6.300000</td>\n",
       "      <td>314.500000</td>\n",
       "      <td>15.811272</td>\n",
       "      <td>0.000000</td>\n",
       "      <td>0.000000</td>\n",
       "      <td>0.000000</td>\n",
       "      <td>...</td>\n",
       "      <td>0.000000</td>\n",
       "      <td>0.000000</td>\n",
       "      <td>0.000000</td>\n",
       "      <td>0.000000</td>\n",
       "      <td>0.000000</td>\n",
       "      <td>0.000000</td>\n",
       "      <td>0.000000</td>\n",
       "      <td>0.000000</td>\n",
       "      <td>0.000000</td>\n",
       "      <td>1.000000</td>\n",
       "    </tr>\n",
       "    <tr>\n",
       "      <th>75%</th>\n",
       "      <td>49017.250000</td>\n",
       "      <td>4.500000e+07</td>\n",
       "      <td>1.085573e+08</td>\n",
       "      <td>119.000000</td>\n",
       "      <td>6.900000</td>\n",
       "      <td>874.000000</td>\n",
       "      <td>31.402622</td>\n",
       "      <td>1.000000</td>\n",
       "      <td>0.000000</td>\n",
       "      <td>0.000000</td>\n",
       "      <td>...</td>\n",
       "      <td>0.000000</td>\n",
       "      <td>0.000000</td>\n",
       "      <td>0.000000</td>\n",
       "      <td>0.000000</td>\n",
       "      <td>0.000000</td>\n",
       "      <td>0.000000</td>\n",
       "      <td>0.000000</td>\n",
       "      <td>0.000000</td>\n",
       "      <td>0.000000</td>\n",
       "      <td>1.000000</td>\n",
       "    </tr>\n",
       "    <tr>\n",
       "      <th>max</th>\n",
       "      <td>459488.000000</td>\n",
       "      <td>3.800000e+08</td>\n",
       "      <td>2.787965e+09</td>\n",
       "      <td>338.000000</td>\n",
       "      <td>10.000000</td>\n",
       "      <td>13752.000000</td>\n",
       "      <td>875.581305</td>\n",
       "      <td>1.000000</td>\n",
       "      <td>1.000000</td>\n",
       "      <td>1.000000</td>\n",
       "      <td>...</td>\n",
       "      <td>1.000000</td>\n",
       "      <td>1.000000</td>\n",
       "      <td>1.000000</td>\n",
       "      <td>1.000000</td>\n",
       "      <td>1.000000</td>\n",
       "      <td>1.000000</td>\n",
       "      <td>1.000000</td>\n",
       "      <td>1.000000</td>\n",
       "      <td>1.000000</td>\n",
       "      <td>1.000000</td>\n",
       "    </tr>\n",
       "  </tbody>\n",
       "</table>\n",
       "<p>8 rows × 143 columns</p>\n",
       "</div>"
      ],
      "text/plain": [
       "            movie_id        budget       revenue      runtime  vote_average  \\\n",
       "count    4172.000000  4.172000e+03  4.172000e+03  4172.000000   4172.000000   \n",
       "mean    50422.470757  3.266752e+07  9.385668e+07   108.831695      6.223969   \n",
       "std     82455.362934  4.220373e+07  1.714746e+08    20.718388      0.968215   \n",
       "min         5.000000  0.000000e+00  0.000000e+00     0.000000      0.000000   \n",
       "25%      8054.750000  3.000000e+06  4.258580e+05    95.000000      5.700000   \n",
       "50%     12179.500000  1.800000e+07  3.007637e+07   105.000000      6.300000   \n",
       "75%     49017.250000  4.500000e+07  1.085573e+08   119.000000      6.900000   \n",
       "max    459488.000000  3.800000e+08  2.787965e+09   338.000000     10.000000   \n",
       "\n",
       "         vote_count   popularity  Genre_Action  Genre_Adventure  \\\n",
       "count   4172.000000  4172.000000   3794.000000      3794.000000   \n",
       "mean     787.654602    24.260400      0.259357         0.189773   \n",
       "std     1296.127387    33.213387      0.438340         0.392173   \n",
       "min        0.000000     0.001586      0.000000         0.000000   \n",
       "25%       95.750000     6.958402      0.000000         0.000000   \n",
       "50%      314.500000    15.811272      0.000000         0.000000   \n",
       "75%      874.000000    31.402622      1.000000         0.000000   \n",
       "max    13752.000000   875.581305      1.000000         1.000000   \n",
       "\n",
       "       Genre_Animation  ...  PCountry_Sweden  PCountry_Switzerland  \\\n",
       "count      3794.000000  ...      3794.000000           3794.000000   \n",
       "mean          0.054823  ...         0.004217              0.004481   \n",
       "std           0.227665  ...         0.064811              0.066797   \n",
       "min           0.000000  ...         0.000000              0.000000   \n",
       "25%           0.000000  ...         0.000000              0.000000   \n",
       "50%           0.000000  ...         0.000000              0.000000   \n",
       "75%           0.000000  ...         0.000000              0.000000   \n",
       "max           1.000000  ...         1.000000              1.000000   \n",
       "\n",
       "       PCountry_Taiwan  PCountry_Thailand  PCountry_Tunisia  PCountry_Turkey  \\\n",
       "count      3794.000000        3794.000000       3794.000000      3794.000000   \n",
       "mean          0.001318           0.000791          0.000264         0.000264   \n",
       "std           0.036283           0.028112          0.016235         0.016235   \n",
       "min           0.000000           0.000000          0.000000         0.000000   \n",
       "25%           0.000000           0.000000          0.000000         0.000000   \n",
       "50%           0.000000           0.000000          0.000000         0.000000   \n",
       "75%           0.000000           0.000000          0.000000         0.000000   \n",
       "max           1.000000           1.000000          1.000000         1.000000   \n",
       "\n",
       "       PCountry_Ukraine  PCountry_United Arab Emirates  \\\n",
       "count       3794.000000                    3794.000000   \n",
       "mean           0.000264                       0.002899   \n",
       "std            0.016235                       0.053774   \n",
       "min            0.000000                       0.000000   \n",
       "25%            0.000000                       0.000000   \n",
       "50%            0.000000                       0.000000   \n",
       "75%            0.000000                       0.000000   \n",
       "max            1.000000                       1.000000   \n",
       "\n",
       "       PCountry_United Kingdom  PCountry_United States of America  \n",
       "count              3794.000000                        3794.000000  \n",
       "mean                  0.140749                           0.872430  \n",
       "std                   0.347808                           0.333654  \n",
       "min                   0.000000                           0.000000  \n",
       "25%                   0.000000                           1.000000  \n",
       "50%                   0.000000                           1.000000  \n",
       "75%                   0.000000                           1.000000  \n",
       "max                   1.000000                           1.000000  \n",
       "\n",
       "[8 rows x 143 columns]"
      ]
     },
     "execution_count": 26,
     "metadata": {},
     "output_type": "execute_result"
    }
   ],
   "source": [
    "Movies4.describe()"
   ]
  },
  {
   "cell_type": "code",
   "execution_count": 27,
   "metadata": {},
   "outputs": [],
   "source": [
    "#from sklearn.preprocessing import StandardScaler\n",
    "#Scalars=StandardScaler()\n",
    "#Movies4['budget']=Scalars.fit_transform(Movies4['budget'].values.reshape(-1,1))\n",
    "#Movies4['revenue']=Scalars.fit_transform(Movies4['revenue'].values.reshape(-1,1))\n",
    "#Movies4['runtime']=Scalars.fit_transform(Movies4['runtime'].values.reshape(-1,1))\n",
    "#Movies4['vote_average']=Scalars.fit_transform(Movies4['vote_average'].values.reshape(-1,1))\n",
    "#Movies4['vote_count']=Scalars.fit_transform(Movies4['vote_count'].values.reshape(-1,1))\n",
    "#Movies4['popularity']=Scalars.fit_transform(Movies4['popularity'].values.reshape(-1,1))"
   ]
  },
  {
   "cell_type": "code",
   "execution_count": 27,
   "metadata": {},
   "outputs": [],
   "source": [
    "Crew=pd.read_csv('crew.csv')"
   ]
  },
  {
   "cell_type": "code",
   "execution_count": 28,
   "metadata": {},
   "outputs": [
    {
     "data": {
      "text/html": [
       "<div>\n",
       "<style scoped>\n",
       "    .dataframe tbody tr th:only-of-type {\n",
       "        vertical-align: middle;\n",
       "    }\n",
       "\n",
       "    .dataframe tbody tr th {\n",
       "        vertical-align: top;\n",
       "    }\n",
       "\n",
       "    .dataframe thead th {\n",
       "        text-align: right;\n",
       "    }\n",
       "</style>\n",
       "<table border=\"1\" class=\"dataframe\">\n",
       "  <thead>\n",
       "    <tr style=\"text-align: right;\">\n",
       "      <th></th>\n",
       "      <th>movie_id</th>\n",
       "      <th>director</th>\n",
       "      <th>producer</th>\n",
       "      <th>actor_1</th>\n",
       "      <th>actor_2</th>\n",
       "      <th>actor_3</th>\n",
       "    </tr>\n",
       "  </thead>\n",
       "  <tbody>\n",
       "    <tr>\n",
       "      <th>0</th>\n",
       "      <td>19995</td>\n",
       "      <td>James Cameron</td>\n",
       "      <td>James Cameron</td>\n",
       "      <td>Sam Worthington</td>\n",
       "      <td>Zoe Saldana</td>\n",
       "      <td>Sigourney Weaver</td>\n",
       "    </tr>\n",
       "    <tr>\n",
       "      <th>1</th>\n",
       "      <td>285</td>\n",
       "      <td>Gore Verbinski</td>\n",
       "      <td>Jerry Bruckheimer</td>\n",
       "      <td>Johnny Depp</td>\n",
       "      <td>Orlando Bloom</td>\n",
       "      <td>Keira Knightley</td>\n",
       "    </tr>\n",
       "    <tr>\n",
       "      <th>2</th>\n",
       "      <td>206647</td>\n",
       "      <td>Sam Mendes</td>\n",
       "      <td>Barbara Broccoli</td>\n",
       "      <td>Daniel Craig</td>\n",
       "      <td>Christoph Waltz</td>\n",
       "      <td>Léa Seydoux</td>\n",
       "    </tr>\n",
       "    <tr>\n",
       "      <th>3</th>\n",
       "      <td>49026</td>\n",
       "      <td>Christopher Nolan</td>\n",
       "      <td>Charles Roven</td>\n",
       "      <td>Christian Bale</td>\n",
       "      <td>Michael Caine</td>\n",
       "      <td>Gary Oldman</td>\n",
       "    </tr>\n",
       "    <tr>\n",
       "      <th>4</th>\n",
       "      <td>49529</td>\n",
       "      <td>Andrew Stanton</td>\n",
       "      <td>Colin Wilson</td>\n",
       "      <td>Taylor Kitsch</td>\n",
       "      <td>Lynn Collins</td>\n",
       "      <td>Samantha Morton</td>\n",
       "    </tr>\n",
       "  </tbody>\n",
       "</table>\n",
       "</div>"
      ],
      "text/plain": [
       "   movie_id           director           producer          actor_1  \\\n",
       "0     19995      James Cameron      James Cameron  Sam Worthington   \n",
       "1       285     Gore Verbinski  Jerry Bruckheimer      Johnny Depp   \n",
       "2    206647         Sam Mendes   Barbara Broccoli     Daniel Craig   \n",
       "3     49026  Christopher Nolan      Charles Roven   Christian Bale   \n",
       "4     49529     Andrew Stanton       Colin Wilson    Taylor Kitsch   \n",
       "\n",
       "           actor_2           actor_3  \n",
       "0      Zoe Saldana  Sigourney Weaver  \n",
       "1    Orlando Bloom   Keira Knightley  \n",
       "2  Christoph Waltz       Léa Seydoux  \n",
       "3    Michael Caine       Gary Oldman  \n",
       "4     Lynn Collins   Samantha Morton  "
      ]
     },
     "execution_count": 28,
     "metadata": {},
     "output_type": "execute_result"
    }
   ],
   "source": [
    "Crew.head()"
   ]
  },
  {
   "cell_type": "code",
   "execution_count": 29,
   "metadata": {},
   "outputs": [
    {
     "data": {
      "text/plain": [
       "movie_id       0\n",
       "director      30\n",
       "producer    1023\n",
       "actor_1       43\n",
       "actor_2       53\n",
       "actor_3       63\n",
       "dtype: int64"
      ]
     },
     "execution_count": 29,
     "metadata": {},
     "output_type": "execute_result"
    }
   ],
   "source": [
    "Crew.isnull().sum()"
   ]
  },
  {
   "cell_type": "code",
   "execution_count": 30,
   "metadata": {},
   "outputs": [
    {
     "name": "stdout",
     "output_type": "stream",
     "text": [
      "<class 'pandas.core.frame.DataFrame'>\n",
      "RangeIndex: 4803 entries, 0 to 4802\n",
      "Data columns (total 6 columns):\n",
      "movie_id    4803 non-null int64\n",
      "director    4773 non-null object\n",
      "producer    3780 non-null object\n",
      "actor_1     4760 non-null object\n",
      "actor_2     4750 non-null object\n",
      "actor_3     4740 non-null object\n",
      "dtypes: int64(1), object(5)\n",
      "memory usage: 225.2+ KB\n"
     ]
    }
   ],
   "source": [
    "Crew.info()"
   ]
  },
  {
   "cell_type": "code",
   "execution_count": 31,
   "metadata": {},
   "outputs": [],
   "source": [
    "data=Movies4.merge(Crew,on='movie_id')"
   ]
  },
  {
   "cell_type": "code",
   "execution_count": 32,
   "metadata": {},
   "outputs": [
    {
     "data": {
      "text/plain": [
       "movie_id                                                                         19995\n",
       "title                                                                           Avatar\n",
       "release_date                                                                2009-12-10\n",
       "budget                                                                       237000000\n",
       "revenue                                                                    2.78797e+09\n",
       "runtime                                                                            162\n",
       "vote_average                                                                       7.2\n",
       "vote_count                                                                       11800\n",
       "popularity                                                                     150.438\n",
       "keywords                             culture clash|future|space war|space colony|so...\n",
       "production_companies                 Ingenious Film Partners|Twentieth Century Fox ...\n",
       "Genre_Action                                                                         1\n",
       "Genre_Adventure                                                                      1\n",
       "Genre_Animation                                                                      0\n",
       "Genre_Comedy                                                                         0\n",
       "Genre_Crime                                                                          0\n",
       "Genre_Documentary                                                                    0\n",
       "Genre_Drama                                                                          0\n",
       "Genre_Family                                                                         0\n",
       "Genre_Fantasy                                                                        1\n",
       "Genre_Foreign                                                                        0\n",
       "Genre_History                                                                        0\n",
       "Genre_Horror                                                                         0\n",
       "Genre_Music                                                                          0\n",
       "Genre_Mystery                                                                        0\n",
       "Genre_Romance                                                                        0\n",
       "Genre_Science Fiction                                                                1\n",
       "Genre_TV Movie                                                                       0\n",
       "Genre_Thriller                                                                       0\n",
       "Genre_War                                                                            0\n",
       "                                                           ...                        \n",
       "PCountry_Pakistan                                                                    0\n",
       "PCountry_Peru                                                                        0\n",
       "PCountry_Philippines                                                                 0\n",
       "PCountry_Poland                                                                      0\n",
       "PCountry_Portugal                                                                    0\n",
       "PCountry_Romania                                                                     0\n",
       "PCountry_Russia                                                                      0\n",
       "PCountry_Serbia                                                                      0\n",
       "PCountry_Serbia and Montenegro                                                       0\n",
       "PCountry_Singapore                                                                   0\n",
       "PCountry_Slovakia                                                                    0\n",
       "PCountry_Slovenia                                                                    0\n",
       "PCountry_South Africa                                                                0\n",
       "PCountry_South Korea                                                                 0\n",
       "PCountry_Spain                                                                       0\n",
       "PCountry_Sweden                                                                      0\n",
       "PCountry_Switzerland                                                                 0\n",
       "PCountry_Taiwan                                                                      0\n",
       "PCountry_Thailand                                                                    0\n",
       "PCountry_Tunisia                                                                     0\n",
       "PCountry_Turkey                                                                      0\n",
       "PCountry_Ukraine                                                                     0\n",
       "PCountry_United Arab Emirates                                                        0\n",
       "PCountry_United Kingdom                                                              1\n",
       "PCountry_United States of America                                                    1\n",
       "director                                                                 James Cameron\n",
       "producer                                                                 James Cameron\n",
       "actor_1                                                                Sam Worthington\n",
       "actor_2                                                                    Zoe Saldana\n",
       "actor_3                                                               Sigourney Weaver\n",
       "Name: 0, Length: 152, dtype: object"
      ]
     },
     "execution_count": 32,
     "metadata": {},
     "output_type": "execute_result"
    }
   ],
   "source": [
    "data.iloc[0,:]"
   ]
  },
  {
   "cell_type": "markdown",
   "metadata": {},
   "source": [
    "# 1. What are the genres that have the highest average rating?"
   ]
  },
  {
   "cell_type": "code",
   "execution_count": 33,
   "metadata": {},
   "outputs": [
    {
     "data": {
      "text/plain": [
       "4044    Comedy|Drama|Family\n",
       "Name: genres, dtype: object"
      ]
     },
     "execution_count": 33,
     "metadata": {},
     "output_type": "execute_result"
    }
   ],
   "source": [
    "Movies[Movies['vote_average']==Movies['vote_average'].max()]['genres']"
   ]
  },
  {
   "cell_type": "markdown",
   "metadata": {},
   "source": [
    "# 2. Who are the highly rated directors?"
   ]
  },
  {
   "cell_type": "code",
   "execution_count": 34,
   "metadata": {},
   "outputs": [
    {
     "data": {
      "text/plain": [
       "1833    Frank Darabont\n",
       "2296        Lance Hool\n",
       "3699     Tim McCanlies\n",
       "Name: director, dtype: object"
      ]
     },
     "execution_count": 34,
     "metadata": {},
     "output_type": "execute_result"
    }
   ],
   "source": [
    "data[data['vote_average']>=8.5]['director']"
   ]
  },
  {
   "cell_type": "markdown",
   "metadata": {},
   "source": [
    "# 3. Who are the highly rated actors?"
   ]
  },
  {
   "cell_type": "code",
   "execution_count": 35,
   "metadata": {},
   "outputs": [
    {
     "data": {
      "text/html": [
       "<div>\n",
       "<style scoped>\n",
       "    .dataframe tbody tr th:only-of-type {\n",
       "        vertical-align: middle;\n",
       "    }\n",
       "\n",
       "    .dataframe tbody tr th {\n",
       "        vertical-align: top;\n",
       "    }\n",
       "\n",
       "    .dataframe thead th {\n",
       "        text-align: right;\n",
       "    }\n",
       "</style>\n",
       "<table border=\"1\" class=\"dataframe\">\n",
       "  <thead>\n",
       "    <tr style=\"text-align: right;\">\n",
       "      <th></th>\n",
       "      <th>actor_1</th>\n",
       "      <th>actor_2</th>\n",
       "      <th>actor_3</th>\n",
       "    </tr>\n",
       "  </thead>\n",
       "  <tbody>\n",
       "    <tr>\n",
       "      <th>1833</th>\n",
       "      <td>Tim Robbins</td>\n",
       "      <td>Morgan Freeman</td>\n",
       "      <td>Bob Gunton</td>\n",
       "    </tr>\n",
       "    <tr>\n",
       "      <th>2296</th>\n",
       "      <td>Tom Berenger</td>\n",
       "      <td>Joaquim de Almeida</td>\n",
       "      <td>Daniela Romo</td>\n",
       "    </tr>\n",
       "    <tr>\n",
       "      <th>3699</th>\n",
       "      <td>Breckin Meyer</td>\n",
       "      <td>Peter Facinelli</td>\n",
       "      <td>Eddie Mills</td>\n",
       "    </tr>\n",
       "  </tbody>\n",
       "</table>\n",
       "</div>"
      ],
      "text/plain": [
       "            actor_1             actor_2       actor_3\n",
       "1833    Tim Robbins      Morgan Freeman    Bob Gunton\n",
       "2296   Tom Berenger  Joaquim de Almeida  Daniela Romo\n",
       "3699  Breckin Meyer     Peter Facinelli   Eddie Mills"
      ]
     },
     "execution_count": 35,
     "metadata": {},
     "output_type": "execute_result"
    }
   ],
   "source": [
    "data[data['vote_average']>=8.5][['actor_1','actor_2','actor_3']]"
   ]
  },
  {
   "cell_type": "markdown",
   "metadata": {},
   "source": [
    "# 4. Who are the most profitable directors?"
   ]
  },
  {
   "cell_type": "code",
   "execution_count": 36,
   "metadata": {},
   "outputs": [
    {
     "data": {
      "text/plain": [
       "0          James Cameron\n",
       "3      Christopher Nolan\n",
       "7            Joss Whedon\n",
       "12        Gore Verbinski\n",
       "16           Joss Whedon\n",
       "17          Rob Marshall\n",
       "25         James Cameron\n",
       "26         Anthony Russo\n",
       "28       Colin Trevorrow\n",
       "29            Sam Mendes\n",
       "31           Shane Black\n",
       "32            Tim Burton\n",
       "36           Michael Bay\n",
       "42           Lee Unkrich\n",
       "44             James Wan\n",
       "52           Michael Bay\n",
       "65     Christopher Nolan\n",
       "96         Peter Jackson\n",
       "122           Chris Buck\n",
       "325        Peter Jackson\n",
       "540           Kyle Balda\n",
       "Name: director, dtype: object"
      ]
     },
     "execution_count": 36,
     "metadata": {},
     "output_type": "execute_result"
    }
   ],
   "source": [
    "data[data['revenue']>=1000000000]['director']"
   ]
  },
  {
   "cell_type": "markdown",
   "metadata": {},
   "source": [
    "# 5. Who are the most profitable actors?"
   ]
  },
  {
   "cell_type": "code",
   "execution_count": 37,
   "metadata": {},
   "outputs": [
    {
     "data": {
      "text/html": [
       "<div>\n",
       "<style scoped>\n",
       "    .dataframe tbody tr th:only-of-type {\n",
       "        vertical-align: middle;\n",
       "    }\n",
       "\n",
       "    .dataframe tbody tr th {\n",
       "        vertical-align: top;\n",
       "    }\n",
       "\n",
       "    .dataframe thead th {\n",
       "        text-align: right;\n",
       "    }\n",
       "</style>\n",
       "<table border=\"1\" class=\"dataframe\">\n",
       "  <thead>\n",
       "    <tr style=\"text-align: right;\">\n",
       "      <th></th>\n",
       "      <th>actor_1</th>\n",
       "      <th>actor_2</th>\n",
       "      <th>actor_3</th>\n",
       "    </tr>\n",
       "  </thead>\n",
       "  <tbody>\n",
       "    <tr>\n",
       "      <th>0</th>\n",
       "      <td>Sam Worthington</td>\n",
       "      <td>Zoe Saldana</td>\n",
       "      <td>Sigourney Weaver</td>\n",
       "    </tr>\n",
       "    <tr>\n",
       "      <th>3</th>\n",
       "      <td>Christian Bale</td>\n",
       "      <td>Michael Caine</td>\n",
       "      <td>Gary Oldman</td>\n",
       "    </tr>\n",
       "    <tr>\n",
       "      <th>7</th>\n",
       "      <td>Robert Downey Jr.</td>\n",
       "      <td>Chris Hemsworth</td>\n",
       "      <td>Mark Ruffalo</td>\n",
       "    </tr>\n",
       "    <tr>\n",
       "      <th>12</th>\n",
       "      <td>Johnny Depp</td>\n",
       "      <td>Orlando Bloom</td>\n",
       "      <td>Keira Knightley</td>\n",
       "    </tr>\n",
       "    <tr>\n",
       "      <th>16</th>\n",
       "      <td>Robert Downey Jr.</td>\n",
       "      <td>Chris Evans</td>\n",
       "      <td>Mark Ruffalo</td>\n",
       "    </tr>\n",
       "    <tr>\n",
       "      <th>17</th>\n",
       "      <td>Johnny Depp</td>\n",
       "      <td>Penélope Cruz</td>\n",
       "      <td>Ian McShane</td>\n",
       "    </tr>\n",
       "    <tr>\n",
       "      <th>25</th>\n",
       "      <td>Kate Winslet</td>\n",
       "      <td>Leonardo DiCaprio</td>\n",
       "      <td>Frances Fisher</td>\n",
       "    </tr>\n",
       "    <tr>\n",
       "      <th>26</th>\n",
       "      <td>Chris Evans</td>\n",
       "      <td>Robert Downey Jr.</td>\n",
       "      <td>Scarlett Johansson</td>\n",
       "    </tr>\n",
       "    <tr>\n",
       "      <th>28</th>\n",
       "      <td>Chris Pratt</td>\n",
       "      <td>Bryce Dallas Howard</td>\n",
       "      <td>Irrfan Khan</td>\n",
       "    </tr>\n",
       "    <tr>\n",
       "      <th>29</th>\n",
       "      <td>Daniel Craig</td>\n",
       "      <td>Judi Dench</td>\n",
       "      <td>Javier Bardem</td>\n",
       "    </tr>\n",
       "    <tr>\n",
       "      <th>31</th>\n",
       "      <td>Robert Downey Jr.</td>\n",
       "      <td>Gwyneth Paltrow</td>\n",
       "      <td>Don Cheadle</td>\n",
       "    </tr>\n",
       "    <tr>\n",
       "      <th>32</th>\n",
       "      <td>Mia Wasikowska</td>\n",
       "      <td>Johnny Depp</td>\n",
       "      <td>Anne Hathaway</td>\n",
       "    </tr>\n",
       "    <tr>\n",
       "      <th>36</th>\n",
       "      <td>Mark Wahlberg</td>\n",
       "      <td>Stanley Tucci</td>\n",
       "      <td>Kelsey Grammer</td>\n",
       "    </tr>\n",
       "    <tr>\n",
       "      <th>42</th>\n",
       "      <td>Tom Hanks</td>\n",
       "      <td>Tim Allen</td>\n",
       "      <td>Ned Beatty</td>\n",
       "    </tr>\n",
       "    <tr>\n",
       "      <th>44</th>\n",
       "      <td>Vin Diesel</td>\n",
       "      <td>Paul Walker</td>\n",
       "      <td>Dwayne Johnson</td>\n",
       "    </tr>\n",
       "    <tr>\n",
       "      <th>52</th>\n",
       "      <td>Shia LaBeouf</td>\n",
       "      <td>John Malkovich</td>\n",
       "      <td>Ken Jeong</td>\n",
       "    </tr>\n",
       "    <tr>\n",
       "      <th>65</th>\n",
       "      <td>Christian Bale</td>\n",
       "      <td>Heath Ledger</td>\n",
       "      <td>Aaron Eckhart</td>\n",
       "    </tr>\n",
       "    <tr>\n",
       "      <th>96</th>\n",
       "      <td>Ian McKellen</td>\n",
       "      <td>Martin Freeman</td>\n",
       "      <td>Richard Armitage</td>\n",
       "    </tr>\n",
       "    <tr>\n",
       "      <th>122</th>\n",
       "      <td>Kristen Bell</td>\n",
       "      <td>Idina Menzel</td>\n",
       "      <td>Jonathan Groff</td>\n",
       "    </tr>\n",
       "    <tr>\n",
       "      <th>325</th>\n",
       "      <td>Elijah Wood</td>\n",
       "      <td>Ian McKellen</td>\n",
       "      <td>Viggo Mortensen</td>\n",
       "    </tr>\n",
       "    <tr>\n",
       "      <th>540</th>\n",
       "      <td>Sandra Bullock</td>\n",
       "      <td>Jon Hamm</td>\n",
       "      <td>Michael Keaton</td>\n",
       "    </tr>\n",
       "  </tbody>\n",
       "</table>\n",
       "</div>"
      ],
      "text/plain": [
       "               actor_1              actor_2             actor_3\n",
       "0      Sam Worthington          Zoe Saldana    Sigourney Weaver\n",
       "3       Christian Bale        Michael Caine         Gary Oldman\n",
       "7    Robert Downey Jr.      Chris Hemsworth        Mark Ruffalo\n",
       "12         Johnny Depp        Orlando Bloom     Keira Knightley\n",
       "16   Robert Downey Jr.          Chris Evans        Mark Ruffalo\n",
       "17         Johnny Depp        Penélope Cruz         Ian McShane\n",
       "25        Kate Winslet    Leonardo DiCaprio      Frances Fisher\n",
       "26         Chris Evans    Robert Downey Jr.  Scarlett Johansson\n",
       "28         Chris Pratt  Bryce Dallas Howard         Irrfan Khan\n",
       "29        Daniel Craig           Judi Dench       Javier Bardem\n",
       "31   Robert Downey Jr.      Gwyneth Paltrow         Don Cheadle\n",
       "32      Mia Wasikowska          Johnny Depp       Anne Hathaway\n",
       "36       Mark Wahlberg        Stanley Tucci      Kelsey Grammer\n",
       "42           Tom Hanks            Tim Allen          Ned Beatty\n",
       "44          Vin Diesel          Paul Walker      Dwayne Johnson\n",
       "52        Shia LaBeouf       John Malkovich           Ken Jeong\n",
       "65      Christian Bale         Heath Ledger       Aaron Eckhart\n",
       "96        Ian McKellen       Martin Freeman    Richard Armitage\n",
       "122       Kristen Bell         Idina Menzel      Jonathan Groff\n",
       "325        Elijah Wood         Ian McKellen     Viggo Mortensen\n",
       "540     Sandra Bullock             Jon Hamm      Michael Keaton"
      ]
     },
     "execution_count": 37,
     "metadata": {},
     "output_type": "execute_result"
    }
   ],
   "source": [
    "data[data['revenue']>=1000000000][['actor_1','actor_2','actor_3']]"
   ]
  },
  {
   "cell_type": "markdown",
   "metadata": {},
   "source": [
    "# 6. Which countries have higher average rating?"
   ]
  },
  {
   "cell_type": "code",
   "execution_count": 38,
   "metadata": {},
   "outputs": [
    {
     "data": {
      "text/plain": [
       "1881                 United States of America\n",
       "2386    United States of America|Mexico|Spain\n",
       "4044                 United States of America\n",
       "Name: production_countries, dtype: object"
      ]
     },
     "execution_count": 38,
     "metadata": {},
     "output_type": "execute_result"
    }
   ],
   "source": [
    "Movies[Movies['vote_average']>=8.5]['production_countries']"
   ]
  },
  {
   "cell_type": "markdown",
   "metadata": {},
   "source": [
    "# 7. Which countries produced more movies?"
   ]
  },
  {
   "cell_type": "code",
   "execution_count": 39,
   "metadata": {},
   "outputs": [],
   "source": [
    "result=data.iloc[:,32:114].sum()>100"
   ]
  },
  {
   "cell_type": "code",
   "execution_count": 40,
   "metadata": {},
   "outputs": [
    {
     "data": {
      "text/html": [
       "<div>\n",
       "<style scoped>\n",
       "    .dataframe tbody tr th:only-of-type {\n",
       "        vertical-align: middle;\n",
       "    }\n",
       "\n",
       "    .dataframe tbody tr th {\n",
       "        vertical-align: top;\n",
       "    }\n",
       "\n",
       "    .dataframe thead th {\n",
       "        text-align: right;\n",
       "    }\n",
       "</style>\n",
       "<table border=\"1\" class=\"dataframe\">\n",
       "  <thead>\n",
       "    <tr style=\"text-align: right;\">\n",
       "      <th></th>\n",
       "      <th>0</th>\n",
       "    </tr>\n",
       "  </thead>\n",
       "  <tbody>\n",
       "    <tr>\n",
       "      <th>Language_en</th>\n",
       "      <td>True</td>\n",
       "    </tr>\n",
       "    <tr>\n",
       "      <th>PCountry_Canada</th>\n",
       "      <td>True</td>\n",
       "    </tr>\n",
       "    <tr>\n",
       "      <th>PCountry_France</th>\n",
       "      <td>True</td>\n",
       "    </tr>\n",
       "    <tr>\n",
       "      <th>PCountry_Germany</th>\n",
       "      <td>True</td>\n",
       "    </tr>\n",
       "  </tbody>\n",
       "</table>\n",
       "</div>"
      ],
      "text/plain": [
       "                     0\n",
       "Language_en       True\n",
       "PCountry_Canada   True\n",
       "PCountry_France   True\n",
       "PCountry_Germany  True"
      ]
     },
     "execution_count": 40,
     "metadata": {},
     "output_type": "execute_result"
    }
   ],
   "source": [
    "result=pd.DataFrame(result)\n",
    "result[result[0]]"
   ]
  },
  {
   "cell_type": "code",
   "execution_count": 76,
   "metadata": {},
   "outputs": [],
   "source": [
    "from sklearn.cluster import KMeans,DBSCAN"
   ]
  },
  {
   "cell_type": "code",
   "execution_count": 46,
   "metadata": {},
   "outputs": [],
   "source": [
    "X=Movies4.drop(['movie_id','title','release_date','keywords','production_companies'],axis=1)"
   ]
  },
  {
   "cell_type": "code",
   "execution_count": 43,
   "metadata": {},
   "outputs": [],
   "source": [
    "from sklearn.cluster import "
   ]
  },
  {
   "cell_type": "code",
   "execution_count": 48,
   "metadata": {},
   "outputs": [],
   "source": [
    "from sklearn.preprocessing import StandardScaler\n",
    "Scalars=StandardScaler()\n",
    "X['budget']=Scalars.fit_transform(X['budget'].values.reshape(-1,1))\n",
    "X['revenue']=Scalars.fit_transform(X['revenue'].values.reshape(-1,1))\n",
    "X['runtime']=Scalars.fit_transform(X['runtime'].values.reshape(-1,1))\n",
    "X['vote_average']=Scalars.fit_transform(X['vote_average'].values.reshape(-1,1))\n",
    "X['vote_count']=Scalars.fit_transform(X['vote_count'].values.reshape(-1,1))\n",
    "X['popularity']=Scalars.fit_transform(X['popularity'].values.reshape(-1,1))"
   ]
  },
  {
   "cell_type": "code",
   "execution_count": 62,
   "metadata": {},
   "outputs": [],
   "source": [
    "X.fillna(0,inplace=True)"
   ]
  },
  {
   "cell_type": "code",
   "execution_count": 70,
   "metadata": {},
   "outputs": [],
   "source": [
    "kmeans=KMeans(n_clusters=3).fit(X)"
   ]
  },
  {
   "cell_type": "code",
   "execution_count": 71,
   "metadata": {},
   "outputs": [
    {
     "data": {
      "text/plain": [
       "array([[ 2.05257509e-01,  1.05434170e-01,  6.99765573e-01,\n",
       "         5.49215592e-01,  1.68296020e-01,  2.01983303e-01,\n",
       "         2.95104895e-01,  2.08391608e-01,  6.01398601e-02,\n",
       "         3.51048951e-01,  1.55944056e-01,  9.09090909e-03,\n",
       "         4.33566434e-01,  1.31468531e-01,  1.02797203e-01,\n",
       "         1.39860140e-03,  3.77622378e-02,  9.51048951e-02,\n",
       "         2.79720280e-02,  9.16083916e-02,  1.69930070e-01,\n",
       "         1.25174825e-01,  1.39860140e-03,  3.06293706e-01,\n",
       "         2.65734266e-02,  2.02797203e-02, -2.65629532e-18,\n",
       "        -5.31259065e-18,  1.39860140e-03,  1.39860140e-03,\n",
       "         2.09790210e-03, -2.65629532e-18,  9.41258741e-01,\n",
       "         2.79720280e-03, -5.31259065e-18,  8.39160839e-03,\n",
       "        -5.31259065e-18,  2.09790210e-03, -2.65629532e-18,\n",
       "        -2.65629532e-18,  1.39860140e-03,  2.09790210e-03,\n",
       "         2.79720280e-03,  6.99300699e-04,  6.99300699e-04,\n",
       "        -9.10729825e-18,  0.00000000e+00,  0.00000000e+00,\n",
       "         0.00000000e+00,  6.99300699e-04,  6.99300699e-04,\n",
       "         3.49650350e-03,  0.00000000e+00,  6.99300699e-04,\n",
       "         6.99300699e-04, -2.65629532e-18, -2.65629532e-18,\n",
       "         6.99300699e-04, -2.65629532e-18,  2.09790210e-03,\n",
       "         0.00000000e+00,  0.00000000e+00, -5.31259065e-18,\n",
       "        -2.65629532e-18,  2.93706294e-02,  6.99300699e-04,\n",
       "        -9.10729825e-18,  2.79720280e-03,  6.99300699e-04,\n",
       "         0.00000000e+00,  0.00000000e+00,  1.39860140e-03,\n",
       "         6.99300699e-04, -2.65629532e-18,  6.99300699e-04,\n",
       "         5.03496503e-02, -5.31259065e-18,  9.09090909e-03,\n",
       "        -2.65629532e-18, -2.65629532e-18,  4.19580420e-03,\n",
       "         2.79720280e-03, -2.65629532e-18, -2.65629532e-18,\n",
       "        -2.65629532e-18,  6.99300699e-04, -9.10729825e-18,\n",
       "         5.80419580e-02,  7.20279720e-02,  6.99300699e-04,\n",
       "         6.99300699e-04,  9.79020979e-03,  3.49650350e-03,\n",
       "         6.99300699e-04,  9.09090909e-03, -2.65629532e-18,\n",
       "        -5.31259065e-18,  7.69230769e-03, -1.06251813e-17,\n",
       "         1.11888112e-02,  6.99300699e-04,  1.25874126e-02,\n",
       "        -2.65629532e-18,  6.99300699e-04,  6.99300699e-04,\n",
       "        -2.65629532e-18, -2.65629532e-18,  6.99300699e-04,\n",
       "         1.39860140e-03, -5.31259065e-18,  1.39860140e-03,\n",
       "         6.99300699e-03, -2.65629532e-18,  6.99300699e-04,\n",
       "         2.09790210e-03,  5.59440559e-03,  2.09790210e-03,\n",
       "        -2.65629532e-18,  1.39860140e-03,  6.99300699e-04,\n",
       "        -1.06251813e-17,  6.99300699e-04,  2.79720280e-03,\n",
       "         4.19580420e-03,  6.99300699e-04,  0.00000000e+00,\n",
       "        -5.31259065e-18, -2.65629532e-18, -2.65629532e-18,\n",
       "         3.49650350e-03,  3.49650350e-03,  1.32867133e-02,\n",
       "         3.49650350e-03,  2.79720280e-03,  6.99300699e-04,\n",
       "        -9.10729825e-18,  6.99300699e-04,  6.99300699e-04,\n",
       "        -2.65629532e-18,  4.19580420e-03,  1.37062937e-01,\n",
       "         8.85314685e-01],\n",
       "       [-3.86611125e-01, -3.74598716e-01, -4.90677406e-01,\n",
       "        -3.87757354e-01, -4.03987220e-01, -3.54699919e-01,\n",
       "         1.66126418e-01,  1.07779579e-01,  3.20097245e-02,\n",
       "         3.15235008e-01,  1.41004862e-01,  1.58022690e-02,\n",
       "         4.45705024e-01,  7.05024311e-02,  6.36142626e-02,\n",
       "         3.64667747e-03,  4.57860616e-02,  1.03727715e-01,\n",
       "         4.29497569e-02,  6.15883306e-02,  1.76661264e-01,\n",
       "         8.67098865e-02,  1.21555916e-03,  2.19611021e-01,\n",
       "         3.28200972e-02,  1.37763371e-02,  4.05186386e-04,\n",
       "         8.10372771e-04,  2.83630470e-03,  1.62074554e-03,\n",
       "         4.86223663e-03,  4.05186386e-04,  8.00648298e-01,\n",
       "         6.88816856e-03,  8.10372771e-04,  1.41815235e-02,\n",
       "         8.10372771e-04,  2.02593193e-03,  4.05186386e-04,\n",
       "         4.05186386e-04,  3.24149109e-03,  2.43111831e-03,\n",
       "         2.43111831e-03, -3.03576608e-18, -3.03576608e-18,\n",
       "         1.21555916e-03,  0.00000000e+00,  0.00000000e+00,\n",
       "         0.00000000e+00,  2.43111831e-03, -3.03576608e-18,\n",
       "         1.62074554e-03,  0.00000000e+00,  1.62074554e-03,\n",
       "         4.05186386e-04,  4.05186386e-04,  4.05186386e-04,\n",
       "        -3.03576608e-18,  4.05186386e-04,  6.88816856e-03,\n",
       "         0.00000000e+00,  0.00000000e+00,  8.10372771e-04,\n",
       "         4.05186386e-04,  1.74230146e-02,  8.10372771e-04,\n",
       "         8.10372771e-04,  6.07779579e-03, -3.03576608e-18,\n",
       "         0.00000000e+00,  0.00000000e+00,  3.64667747e-03,\n",
       "        -3.03576608e-18,  4.05186386e-04, -3.03576608e-18,\n",
       "         5.26742301e-02,  8.10372771e-04,  1.13452188e-02,\n",
       "         4.05186386e-04,  4.05186386e-04,  5.67260940e-03,\n",
       "         3.64667747e-03, -3.03576608e-18,  4.05186386e-04,\n",
       "         4.05186386e-04, -3.03576608e-18,  1.21555916e-03,\n",
       "         6.44246353e-02,  6.07779579e-02,  8.10372771e-04,\n",
       "        -3.03576608e-18,  8.50891410e-03,  1.62074554e-03,\n",
       "         1.21555916e-03,  7.69854133e-03,  4.05186386e-04,\n",
       "         8.10372771e-04,  6.88816856e-03,  1.62074554e-03,\n",
       "         1.41815235e-02, -6.07153217e-18,  8.91410049e-03,\n",
       "         4.05186386e-04, -3.03576608e-18, -3.03576608e-18,\n",
       "         4.05186386e-04,  4.05186386e-04, -3.03576608e-18,\n",
       "         2.83630470e-03,  8.10372771e-04, -1.21430643e-17,\n",
       "         7.29335494e-03,  4.05186386e-04,  8.10372771e-04,\n",
       "         4.45705024e-03,  4.05186386e-03,  2.02593193e-03,\n",
       "         4.05186386e-04, -6.07153217e-18, -3.03576608e-18,\n",
       "         1.21555916e-03, -3.03576608e-18,  2.02593193e-03,\n",
       "         4.05186386e-03, -3.03576608e-18,  0.00000000e+00,\n",
       "         4.05186386e-04,  4.05186386e-04, -3.03576608e-18,\n",
       "         4.86223663e-03,  3.64667747e-03,  1.37763371e-02,\n",
       "         4.45705024e-03,  5.26742301e-03,  1.21555916e-03,\n",
       "         1.21555916e-03, -3.03576608e-18, -3.03576608e-18,\n",
       "         4.05186386e-04,  2.02593193e-03,  1.17909238e-01,\n",
       "         7.18800648e-01],\n",
       "       [ 2.41108766e+00,  2.82386412e+00,  7.67617042e-01,\n",
       "         6.26302380e-01,  2.76050055e+00,  2.14074189e+00,\n",
       "         5.54744526e-01,  5.69343066e-01,  1.56934307e-01,\n",
       "         2.59124088e-01,  6.20437956e-02, -6.41847686e-17,\n",
       "         2.11678832e-01,  2.44525547e-01,  2.77372263e-01,\n",
       "        -8.67361738e-18,  3.64963504e-02,  3.64963504e-02,\n",
       "         1.09489051e-02,  4.37956204e-02,  7.66423358e-02,\n",
       "         2.77372263e-01, -1.08420217e-18,  2.48175182e-01,\n",
       "         2.91970803e-02,  1.45985401e-02,  1.32814766e-18,\n",
       "         2.65629532e-18,  3.03576608e-18, -5.20417043e-18,\n",
       "        -2.64545330e-17,  1.32814766e-18,  9.85401460e-01,\n",
       "        -1.12757026e-17,  2.65629532e-18,  1.09489051e-02,\n",
       "         2.65629532e-18,  1.06251813e-17,  1.32814766e-18,\n",
       "         1.32814766e-18, -2.16840434e-18,  3.64963504e-03,\n",
       "        -2.16840434e-18,  1.32814766e-18,  1.32814766e-18,\n",
       "        -2.60208521e-18,  0.00000000e+00,  0.00000000e+00,\n",
       "         0.00000000e+00, -1.04083409e-17,  1.32814766e-18,\n",
       "         3.03576608e-18,  0.00000000e+00, -1.08420217e-18,\n",
       "         2.65629532e-18,  1.32814766e-18,  1.32814766e-18,\n",
       "         1.32814766e-18,  1.32814766e-18, -4.33680869e-18,\n",
       "         0.00000000e+00,  0.00000000e+00,  2.65629532e-18,\n",
       "         1.32814766e-18,  3.28467153e-02,  7.29927007e-03,\n",
       "         3.64963504e-03,  7.29927007e-03,  1.32814766e-18,\n",
       "         0.00000000e+00,  0.00000000e+00, -8.67361738e-18,\n",
       "         1.32814766e-18,  1.32814766e-18,  1.32814766e-18,\n",
       "         4.37956204e-02,  2.65629532e-18,  2.91970803e-02,\n",
       "         1.32814766e-18,  1.32814766e-18,  1.09489051e-02,\n",
       "         3.64963504e-03,  3.64963504e-03,  1.32814766e-18,\n",
       "         1.32814766e-18,  1.32814766e-18, -2.60208521e-18,\n",
       "         2.91970803e-02,  1.02189781e-01, -2.60208521e-18,\n",
       "         1.32814766e-18,  1.09489051e-02,  3.03576608e-18,\n",
       "         5.31259065e-18,  4.25007252e-17,  1.32814766e-18,\n",
       "         2.65629532e-18,  3.64963504e-03,  5.31259065e-18,\n",
       "         2.18978102e-02,  3.64963504e-03,  2.55474453e-02,\n",
       "         1.32814766e-18,  1.32814766e-18,  1.32814766e-18,\n",
       "         1.32814766e-18,  1.32814766e-18,  1.32814766e-18,\n",
       "         3.64963504e-03,  2.65629532e-18,  7.29927007e-03,\n",
       "        -4.16333634e-17,  1.32814766e-18, -2.60208521e-18,\n",
       "         3.64963504e-03,  2.55474453e-02,  3.64963504e-03,\n",
       "         1.32814766e-18,  2.65629532e-18,  1.32814766e-18,\n",
       "         3.64963504e-03,  1.32814766e-18,  3.64963504e-03,\n",
       "         2.12503626e-17,  1.32814766e-18,  0.00000000e+00,\n",
       "         3.64963504e-03,  1.32814766e-18,  3.64963504e-03,\n",
       "         3.64963504e-03, -2.08166817e-17,  3.64963504e-03,\n",
       "         2.12503626e-17,  1.38777878e-17,  3.64963504e-03,\n",
       "        -2.60208521e-18,  1.32814766e-18,  1.32814766e-18,\n",
       "         1.32814766e-18, -8.67361738e-18,  1.71532847e-01,\n",
       "         9.85401460e-01]])"
      ]
     },
     "execution_count": 71,
     "metadata": {},
     "output_type": "execute_result"
    }
   ],
   "source": [
    "kmeans.cluster_centers_"
   ]
  },
  {
   "cell_type": "code",
   "execution_count": 72,
   "metadata": {},
   "outputs": [
    {
     "name": "stdout",
     "output_type": "stream",
     "text": [
      "24715.226798499603\n"
     ]
    }
   ],
   "source": [
    "print(kmeans.inertia_)"
   ]
  },
  {
   "cell_type": "code",
   "execution_count": 68,
   "metadata": {},
   "outputs": [
    {
     "data": {
      "text/plain": [
       "[<matplotlib.lines.Line2D at 0x2092f724208>]"
      ]
     },
     "execution_count": 68,
     "metadata": {},
     "output_type": "execute_result"
    },
    {
     "data": {
      "image/png": "[encoded data removed]",
      "text/plain": [
       "<Figure size 432x288 with 1 Axes>"
      ]
     },
     "metadata": {
      "needs_background": "light"
     },
     "output_type": "display_data"
    }
   ],
   "source": [
    "error=[]\n",
    "for i in range(2,15):\n",
    "    kmeans=KMeans(n_clusters=i).fit(X.values)\n",
    "    error.append(kmeans.inertia_)\n",
    "plt.plot(range(2,15),error)"
   ]
  },
  {
   "cell_type": "code",
   "execution_count": 73,
   "metadata": {},
   "outputs": [],
   "source": [
    "kmeans=KMeans(n_clusters=7).fit(X)"
   ]
  },
  {
   "cell_type": "code",
   "execution_count": 74,
   "metadata": {},
   "outputs": [
    {
     "name": "stdout",
     "output_type": "stream",
     "text": [
      "19465.953186256946\n"
     ]
    }
   ],
   "source": [
    "print(kmeans.inertia_)"
   ]
  },
  {
   "cell_type": "code",
   "execution_count": 77,
   "metadata": {},
   "outputs": [],
   "source": [
    "dbscan = DBSCAN(eps = .5, min_samples = 15).fit(X)"
   ]
  },
  {
   "cell_type": "code",
   "execution_count": 81,
   "metadata": {},
   "outputs": [],
   "source": [
    "labels=dbscan.labels_"
   ]
  },
  {
   "cell_type": "code",
   "execution_count": 83,
   "metadata": {},
   "outputs": [
    {
     "data": {
      "text/plain": [
       "-0.0668195409041406"
      ]
     },
     "execution_count": 83,
     "metadata": {},
     "output_type": "execute_result"
    }
   ],
   "source": [
    "from sklearn import metrics\n",
    "metrics.silhouette_score(X,labels)"
   ]
  },
  {
   "cell_type": "code",
   "execution_count": null,
   "metadata": {},
   "outputs": [],
   "source": []
  }
 ],
 "metadata": {
  "kernelspec": {
   "display_name": "Python 3",
   "language": "python",
   "name": "python3"
  },
  "language_info": {
   "codemirror_mode": {
    "name": "ipython",
    "version": 3
   },
   "file_extension": ".py",
   "mimetype": "text/x-python",
   "name": "python",
   "nbconvert_exporter": "python",
   "pygments_lexer": "ipython3",
   "version": "3.7.3"
  }
 },
 "nbformat": 4,
 "nbformat_minor": 2
}
